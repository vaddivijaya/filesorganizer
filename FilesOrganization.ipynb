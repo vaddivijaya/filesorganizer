{
 "cells": [
  {
   "cell_type": "code",
   "execution_count": 2,
   "id": "d8445f29",
   "metadata": {},
   "outputs": [
    {
     "name": "stdout",
     "output_type": "stream",
     "text": [
      "Enter the directory path: D:\\vijaya\\Python_projects\n",
      "D:\\vijaya\\Python_projects\\Images\n",
      "D:\\vijaya\\Python_projects\\Documents\n",
      "D:\\vijaya\\Python_projects\\Videos\n",
      "D:\\vijaya\\Python_projects\\Music\n",
      "Moved: img.jpg to Images\n"
     ]
    }
   ],
   "source": [
    "import os\n",
    "\n",
    "# Define the file types and their corresponding folders\n",
    "file_types = {\n",
    "    'Images': ['.jpg', '.jpeg', '.png', '.gif'],\n",
    "    'Documents': ['.pdf', '.docx', '.txt', '.xlsx'],\n",
    "    'Videos': ['.mp4', '.mov', '.avi'],\n",
    "    'Music': ['.mp3', '.wav'],\n",
    "}\n",
    "\n",
    "def organize_files(directory):\n",
    "    # Create folders for file types\n",
    "    for folder_name in file_types:\n",
    "        folder_path = os.path.join(directory, folder_name)\n",
    "        print(folder_path)\n",
    "        if not os.path.exists(folder_path):\n",
    "            os.makedirs(folder_path)\n",
    "\n",
    "    # Move files to appropriate folders\n",
    "    for filename in os.listdir(directory):\n",
    "        file_path = os.path.join(directory, filename)\n",
    "        \n",
    "        if os.path.isfile(file_path):\n",
    "            file_extension = os.path.splitext(filename)[1].lower()\n",
    "            \n",
    "            for folder_name, extensions in file_types.items():\n",
    "                if file_extension in extensions:\n",
    "                    # Build the new destination path for the file\n",
    "                    new_path = os.path.join(directory, folder_name, filename)\n",
    "                    \n",
    "                    # Move file using os.rename or os.replace\n",
    "                    os.rename(file_path, new_path)\n",
    "                    print(f\"Moved: {filename} to {folder_name}\")\n",
    "\n",
    "if __name__ == \"__main__\":\n",
    "    target_directory = input(\"Enter the directory path: \")\n",
    "    organize_files(target_directory)\n"
   ]
  },
  {
   "cell_type": "code",
   "execution_count": null,
   "id": "f3252d9e",
   "metadata": {},
   "outputs": [],
   "source": []
  }
 ],
 "metadata": {
  "kernelspec": {
   "display_name": "Python 3 (ipykernel)",
   "language": "python",
   "name": "python3"
  },
  "language_info": {
   "codemirror_mode": {
    "name": "ipython",
    "version": 3
   },
   "file_extension": ".py",
   "mimetype": "text/x-python",
   "name": "python",
   "nbconvert_exporter": "python",
   "pygments_lexer": "ipython3",
   "version": "3.11.5"
  }
 },
 "nbformat": 4,
 "nbformat_minor": 5
}
